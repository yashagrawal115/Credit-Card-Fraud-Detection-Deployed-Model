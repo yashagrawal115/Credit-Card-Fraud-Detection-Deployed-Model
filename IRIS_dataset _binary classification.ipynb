{
 "cells": [
  {
   "cell_type": "markdown",
   "metadata": {},
   "source": [
    "### IRIS Dataset for binary classification"
   ]
  },
  {
   "cell_type": "markdown",
   "metadata": {},
   "source": [
    "HOMEWORK "
   ]
  },
  {
   "cell_type": "code",
   "execution_count": 223,
   "metadata": {},
   "outputs": [],
   "source": [
    "# import warnings\n",
    "# warnings.filterwarnings('ignore')"
   ]
  },
  {
   "cell_type": "code",
   "execution_count": 224,
   "metadata": {},
   "outputs": [],
   "source": [
    "import numpy as np\n",
    "import pandas as pd\n",
    "import matplotlib.pyplot as plt\n",
    "from sklearn.linear_model import LogisticRegression\n",
    "from sklearn.model_selection import train_test_split\n",
    "from sklearn.metrics import classification_report\n",
    "import matplotlib.pyplot as plt\n",
    "import seaborn as sns"
   ]
  },
  {
   "cell_type": "code",
   "execution_count": 225,
   "metadata": {},
   "outputs": [],
   "source": [
    "df1 = pd.read_csv(r'C:\\Users\\YASHA\\Iris.csv')\n",
    "df2 = pd.read_csv(r'C:\\Users\\YASHA\\Iris.csv')# Make two copies of dataset (incase you lost some important row/column)\n",
    "df1 = df1.replace({'species' : {'Iris-setosa': 2, 'Iris-versicolor': 0 ,'Iris-virginica':1}})# Assign value to the classes\n",
    "df11= df1[df1['species']<2]\n",
    "LR = LogisticRegression()\n",
    "X_train, X_test, y_train, y_test = train_test_split(df11.drop(['species'], axis= 1),df11['species'], test_size=0.3, random_state =115)\n",
    "LR_fit =LR.fit(X_train, y_train )"
   ]
  },
  {
   "cell_type": "code",
   "execution_count": 226,
   "metadata": {},
   "outputs": [
    {
     "name": "stdout",
     "output_type": "stream",
     "text": [
      "[[-1.60851449 -1.18343966  2.20653103  2.1749122 ]]\n",
      "=======\n",
      "[-1.04650555]\n",
      "=======\n",
      "[0 1]\n",
      "=======\n",
      "[1 1 0 0 1 1 0 0 0 1 1 0 1 1 1 1 0 0 0 1 0 1 1 1 0 1 0 1 0 0]\n",
      "=======\n",
      "[[0.09370103 0.90629897]\n",
      " [0.26381326 0.73618674]\n",
      " [0.92124662 0.07875338]\n",
      " [0.84048071 0.15951929]\n",
      " [0.11826882 0.88173118]\n",
      " [0.14258195 0.85741805]\n",
      " [0.88255117 0.11744883]\n",
      " [0.9392664  0.0607336 ]\n",
      " [0.78785402 0.21214598]\n",
      " [0.41304053 0.58695947]\n",
      " [0.44502757 0.55497243]\n",
      " [0.52274551 0.47725449]\n",
      " [0.42207137 0.57792863]\n",
      " [0.08529223 0.91470777]\n",
      " [0.43578672 0.56421328]\n",
      " [0.16863237 0.83136763]\n",
      " [0.92543309 0.07456691]\n",
      " [0.76824438 0.23175562]\n",
      " [0.868531   0.131469  ]\n",
      " [0.27014961 0.72985039]\n",
      " [0.89433447 0.10566553]\n",
      " [0.45679193 0.54320807]\n",
      " [0.07374625 0.92625375]\n",
      " [0.02683181 0.97316819]\n",
      " [0.87393929 0.12606071]\n",
      " [0.16147928 0.83852072]\n",
      " [0.82596003 0.17403997]\n",
      " [0.185465   0.814535  ]\n",
      " [0.96070357 0.03929643]\n",
      " [0.93568831 0.06431169]]\n",
      "=======\n",
      "Accuracy of Logistic regression classifier on training set: 0.97\n",
      "=======\n",
      "Accuracy of Logistic regression classifier on test set: 1.00\n",
      "=======\n",
      "              precision    recall  f1-score   support\n",
      "\n",
      "           0       1.00      0.94      0.97        36\n",
      "           1       0.94      1.00      0.97        34\n",
      "\n",
      "   micro avg       0.97      0.97      0.97        70\n",
      "   macro avg       0.97      0.97      0.97        70\n",
      "weighted avg       0.97      0.97      0.97        70\n",
      "\n",
      "=======\n",
      "              precision    recall  f1-score   support\n",
      "\n",
      "           0       1.00      1.00      1.00        14\n",
      "           1       1.00      1.00      1.00        16\n",
      "\n",
      "   micro avg       1.00      1.00      1.00        30\n",
      "   macro avg       1.00      1.00      1.00        30\n",
      "weighted avg       1.00      1.00      1.00        30\n",
      "\n",
      "=======\n"
     ]
    }
   ],
   "source": [
    "print(LR_fit.coef_) # Coefficient for the equation\n",
    "print('=======')\n",
    "print(LR_fit.intercept_) # Intercept for the equation\n",
    "print('=======')\n",
    "print(LR_fit.classes_) # No. of Classes \n",
    "print('=======')\n",
    "print(LR_fit.predict(X_test)) # List of final predicted values \n",
    "print('=======')\n",
    "print(LR_fit.predict_proba(X_test)) \n",
    "print('=======')\n",
    "print('Accuracy of Logistic regression classifier on training set: {:.2f}'.format(LR_fit.score(X_train, y_train))) # Acc in training\n",
    "print('=======')\n",
    "print('Accuracy of Logistic regression classifier on test set: {:.2f}'.format(LR_fit.score(X_test, y_test))) # Acc in testing\n",
    "print('=======')\n",
    "# from sklearn.metrics import classification_report\n",
    "print(classification_report(y_train, LR_fit.predict(X_train)))\n",
    "print('=======')\n",
    "print(classification_report(y_test, LR_fit.predict(X_test)))\n",
    "print('=======')"
   ]
  },
  {
   "cell_type": "code",
   "execution_count": 227,
   "metadata": {},
   "outputs": [
    {
     "data": {
      "text/plain": [
       "<matplotlib.collections.PathCollection at 0x19a3d7fe6d8>"
      ]
     },
     "execution_count": 227,
     "metadata": {},
     "output_type": "execute_result"
    },
    {
     "data": {
      "text/plain": [
       "<Figure size 432x288 with 0 Axes>"
      ]
     },
     "metadata": {},
     "output_type": "display_data"
    },
    {
     "data": {
      "image/png": "[encoded data removed]",
      "text/plain": [
       "<Figure size 864x576 with 1 Axes>"
      ]
     },
     "metadata": {
      "needs_background": "light"
     },
     "output_type": "display_data"
    }
   ],
   "source": [
    "fig = plt.figure()\n",
    "fig, ax = plt.subplots(figsize=(12,8))\n",
    "ax.scatter(LR_fit.predict_proba(X_test)[:,0:1],LR_fit.predict_proba(X_test)[:,1:2], color =\"red\")\n",
    "ax.scatter(LR_fit.predict_proba(X_train)[:,0:1],LR_fit.predict_proba(X_train)[:,1:2])\n"
   ]
  },
  {
   "cell_type": "code",
   "execution_count": 228,
   "metadata": {},
   "outputs": [
    {
     "name": "stdout",
     "output_type": "stream",
     "text": [
      "1    50\n",
      "0    50\n",
      "Name: species, dtype: int64\n"
     ]
    },
    {
     "data": {
      "image/png": "[encoded data removed]",
      "text/plain": [
       "<Figure size 432x288 with 1 Axes>"
      ]
     },
     "metadata": {
      "needs_background": "light"
     },
     "output_type": "display_data"
    },
    {
     "data": {
      "text/plain": [
       "<Figure size 432x288 with 0 Axes>"
      ]
     },
     "metadata": {},
     "output_type": "display_data"
    }
   ],
   "source": [
    "print(df11['species'].value_counts())\n",
    "sns.countplot(x='species',data =df11,palette='hls')\n",
    "plt.show()\n",
    "plt.savefig('Actual_data')"
   ]
  },
  {
   "cell_type": "code",
   "execution_count": 229,
   "metadata": {},
   "outputs": [
    {
     "name": "stdout",
     "output_type": "stream",
     "text": [
      "1    36\n",
      "0    34\n",
      "Name: class, dtype: int64\n"
     ]
    },
    {
     "data": {
      "image/png": "[encoded data removed]",
      "text/plain": [
       "<Figure size 432x288 with 1 Axes>"
      ]
     },
     "metadata": {
      "needs_background": "light"
     },
     "output_type": "display_data"
    },
    {
     "data": {
      "text/plain": [
       "<Figure size 432x288 with 0 Axes>"
      ]
     },
     "metadata": {},
     "output_type": "display_data"
    }
   ],
   "source": [
    "df_train = pd.DataFrame({'class':LR_fit.predict(X_train)})\n",
    "print(df_train['class'].value_counts())\n",
    "sns.countplot(x='class',data =df_train,palette='hls')\n",
    "plt.show()\n",
    "plt.savefig('X_train')"
   ]
  },
  {
   "cell_type": "code",
   "execution_count": 230,
   "metadata": {},
   "outputs": [
    {
     "name": "stdout",
     "output_type": "stream",
     "text": [
      "1    16\n",
      "0    14\n",
      "Name: class, dtype: int64\n"
     ]
    },
    {
     "data": {
      "image/png": "[encoded data removed]",
      "text/plain": [
       "<Figure size 432x288 with 1 Axes>"
      ]
     },
     "metadata": {
      "needs_background": "light"
     },
     "output_type": "display_data"
    },
    {
     "data": {
      "text/plain": [
       "<Figure size 432x288 with 0 Axes>"
      ]
     },
     "metadata": {},
     "output_type": "display_data"
    }
   ],
   "source": [
    "df_test = pd.DataFrame({'class':LR_fit.predict(X_test)})\n",
    "print(df_test['class'].value_counts())\n",
    "sns.countplot(x='class',data =df_test,palette='hls')\n",
    "plt.show()\n",
    "plt.savefig('X_test')"
   ]
  },
  {
   "cell_type": "code",
   "execution_count": 231,
   "metadata": {},
   "outputs": [
    {
     "name": "stdout",
     "output_type": "stream",
     "text": [
      "Accuracy of Logistic regression classifier on training set: 0.97\n",
      "=======\n",
      "Accuracy of Logistic regression classifier on test set: 1.00\n",
      "=======\n"
     ]
    }
   ],
   "source": [
    "print('Accuracy of Logistic regression classifier on training set: {:.2f}'.format(LR_fit.score(X_train, y_train))) # Acc in training\n",
    "print('=======')\n",
    "print('Accuracy of Logistic regression classifier on test set: {:.2f}'.format(LR_fit.score(X_test, y_test))) # Acc in testing\n",
    "print('=======')"
   ]
  },
  {
   "cell_type": "code",
   "execution_count": 232,
   "metadata": {},
   "outputs": [],
   "source": [
    "# PLEASE PROVIDE YOUR VALUABLE FEEDBACK"
   ]
  }
 ],
 "metadata": {
  "kernelspec": {
   "display_name": "Python 3",
   "language": "python",
   "name": "python3"
  },
  "language_info": {
   "codemirror_mode": {
    "name": "ipython",
    "version": 3
   },
   "file_extension": ".py",
   "mimetype": "text/x-python",
   "name": "python",
   "nbconvert_exporter": "python",
   "pygments_lexer": "ipython3",
   "version": "3.7.3"
  }
 },
 "nbformat": 4,
 "nbformat_minor": 2
}
